{
 "cells": [
  {
   "cell_type": "code",
   "execution_count": 7,
   "metadata": {},
   "outputs": [],
   "source": [
    "class Vending_Machine: \n",
    "    accaptable_rupee = (10,20,50,100,200,500)\n",
    "    items = ['Buiscuit','Chips', 'Coke', 'Maggi']\n",
    "    item_price = [10,20,50,10]\n",
    "    item_code = ['1', '2', '3', '4']\n",
    "\n",
    "    def __init__(self): #define total in vending machine. \n",
    "        self.total = 0.00\n",
    "\n",
    "    def insert_money(self,money):\n",
    "        while True:\n",
    "            if float(money) not in (self.accaptable_rupee):\n",
    "                print ('The Vending Machine accepts only: {}. ' .format(self.accaptable_rupee), end = ''+\"\\n\")\n",
    "                print(\"#####################################################\")\n",
    "                money=float(input(\"please re-insert money: \\n\"))\n",
    "            else:\n",
    "                break\n",
    "        self.total += money\n",
    "\n",
    "class interface(Vending_Machine):            \n",
    "    def menu(self):\n",
    "        print(\"Welcome in the Vending Machine \\n\")\n",
    "        print(\"All items are listed below \\n\")\n",
    "        print(Vending_Machine.item_code[0], Vending_Machine.items[0], \"Rs/-{: .2f}\".format(Vending_Machine.item_price[0])+\"\\n\") #\n",
    "        print(Vending_Machine.item_code[1], Vending_Machine.items[1], \"Rs/-{: .2f}\".format(Vending_Machine.item_price[1])+\"\\n\")\n",
    "        print(Vending_Machine.item_code[2], Vending_Machine.items[2], \"Rs/-{: .2f}\".format(Vending_Machine.item_price[2])+\"\\n\")\n",
    "        print(Vending_Machine.item_code[3], Vending_Machine.items[3], \"Rs/-{: .2f}\".format(Vending_Machine.item_price[3])+\"\\n\")\n",
    "        print(\"-----------------------------------------------------\")"
   ]
  },
  {
   "cell_type": "code",
   "execution_count": 8,
   "metadata": {},
   "outputs": [],
   "source": [
    "class user_input(interface):\n",
    "    def choice (self):\n",
    "        choice = str(input(\"Please enter the item code of an item you would like to purchase: \"))\n",
    "        for i in range(len(Vending_Machine.item_code)):\n",
    "            if choice == Vending_Machine.item_code[i]:\n",
    "                print (\"You have selected \", Vending_Machine.items[i])\n",
    "                while True:\n",
    "                    quantity=int(input(\"please enter quantity: \"))\n",
    "                    if quantity>0:\n",
    "                        break\n",
    "                print (\"You have selected \" +str(quantity)+ \" {} - the price is Rs/- {: .2f}. \" .format(Vending_Machine.items[i], quantity*Vending_Machine.item_price[i]))\n",
    "                price=quantity*Vending_Machine.item_price[i]\n",
    "                while True:\n",
    "                    print(\"Currently you have a total of Rs/- {} in the machine.\"  .format(self.total))\n",
    "                    print(\"-------------------------------------------------------\")\n",
    "                    if self.total < price: \n",
    "                        money_ = float(input(\"Insert money into the vending machine: \"))\n",
    "                        Vending_Machine.insert_money(self,money_)\n",
    "                    else:\n",
    "                        print(\"Currently you have a total of Rs/- {} in the machine.\"  .format(self.total))\n",
    "                        break\n",
    "                if self.total == price:\n",
    "                    self.total -= price\n",
    "                    print('Please take your {}. There is currently Rs/- {: .2f} left in the Machine. '.format(Vending_Machine.items[i], self.total)+\"\\n\")\n",
    "                elif self.total > price:\n",
    "                    self.total -= price\n",
    "                    print ('Please take your {}. There is currently Rs/- {: .2f} left in the Machine. '.format(Vending_Machine.items[i], self.total)+\"\\n\")\n",
    "\n",
    "\n",
    "        if choice not in Vending_Machine.item_code:\n",
    "            print(\"Sorry we do not have item number {} available. Please try again\" .format(choice)+\"\\n\")\n",
    "    def process (self):\n",
    "        count=0\n",
    "        while True:\n",
    "            count+=1\n",
    "            n = input(\"for continue press c and for exit press e: \\n\")\n",
    "            if n==\"c\":\n",
    "                user_input.choice(self)\n",
    "            elif n==\"e\":\n",
    "                if count>0 and self.total>0:\n",
    "                    print ('Please collect your money : '+\"Rs/- \"+str(self.total)+\" \\n\")\n",
    "                    print(\"Thanks for using Vending machine, have a nice day!\")\n",
    "                    break\n",
    "                else:\n",
    "                    print(\"Thanks for using Vending machine, have a nice day!\")\n",
    "                    break\n",
    "            else:\n",
    "                if count>0 and self.total>0:\n",
    "                    print(\"Invalid input, \\n\")\n",
    "                    print ('Please collect your money : '+\"Rs/- \"+str(self.total)+\" \\n\")\n",
    "                    print(\"Thanks for using Vending machine, have a nice day!\")\n",
    "                    break\n",
    "                else:\n",
    "                    print(\"Invalid input,\\nThanks for using Vending machine, have a nice day!\")\n",
    "                    break"
   ]
  },
  {
   "cell_type": "code",
   "execution_count": 9,
   "metadata": {},
   "outputs": [
    {
     "name": "stdout",
     "output_type": "stream",
     "text": [
      "Welcome in the Vending Machine \n",
      "\n",
      "All items are listed below \n",
      "\n",
      "1 Buiscuit Rs/- 10.00\n",
      "\n",
      "2 Chips Rs/- 20.00\n",
      "\n",
      "3 Coke Rs/- 50.00\n",
      "\n",
      "4 Maggi Rs/- 10.00\n",
      "\n",
      "-----------------------------------------------------\n",
      "for continue press c and for exit press e: \n",
      "e\n",
      "Thanks for using Vending machine, have a nice day!\n"
     ]
    }
   ],
   "source": [
    "vm = Vending_Machine()\n",
    "i1 = interface()\n",
    "u1 = user_input()\n",
    "\n",
    "i1.menu()\n",
    "u1.process()"
   ]
  },
  {
   "cell_type": "code",
   "execution_count": null,
   "metadata": {},
   "outputs": [],
   "source": []
  }
 ],
 "metadata": {
  "kernelspec": {
   "display_name": "Python 3",
   "language": "python",
   "name": "python3"
  },
  "language_info": {
   "codemirror_mode": {
    "name": "ipython",
    "version": 3
   },
   "file_extension": ".py",
   "mimetype": "text/x-python",
   "name": "python",
   "nbconvert_exporter": "python",
   "pygments_lexer": "ipython3",
   "version": "3.7.4"
  }
 },
 "nbformat": 4,
 "nbformat_minor": 2
}
